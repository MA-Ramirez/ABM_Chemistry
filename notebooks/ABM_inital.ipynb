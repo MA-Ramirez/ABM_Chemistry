{
 "cells": [
  {
   "cell_type": "code",
   "execution_count": 1,
   "metadata": {},
   "outputs": [
    {
     "name": "stdout",
     "output_type": "stream",
     "text": [
      "\u001b[32m\u001b[1mStatus\u001b[22m\u001b[39m `~/Documents/Research/Jurgen/History_Chemistry/ABM_Chemistry/Project.toml`\n",
      " \u001b[90m [46ada45e] \u001b[39mAgents v5.14.0\n",
      " \u001b[90m [13f3f980] \u001b[39mCairoMakie v0.10.4\n",
      " \u001b[90m [e9467ef8] \u001b[39mGLMakie v0.8.4\n",
      " \u001b[90m [ec714cd0] \u001b[39mInteractiveDynamics v0.22.1\n"
     ]
    }
   ],
   "source": [
    "import Pkg\n",
    "Pkg.status([\"Agents\", \"CairoMakie\", \"GLMakie\", \"InteractiveDynamics\"])"
   ]
  },
  {
   "cell_type": "code",
   "execution_count": 2,
   "metadata": {},
   "outputs": [],
   "source": [
    "using Agents\n",
    "using CairoMakie"
   ]
  },
  {
   "attachments": {},
   "cell_type": "markdown",
   "metadata": {},
   "source": [
    "## 1. Choose the space\n",
    "Agents live in a 2D grid."
   ]
  },
  {
   "cell_type": "code",
   "execution_count": 15,
   "metadata": {},
   "outputs": [
    {
     "data": {
      "text/plain": [
       "GridSpace with size (25, 25), metric=chebyshev, periodic=true"
      ]
     },
     "metadata": {},
     "output_type": "display_data"
    }
   ],
   "source": [
    "space = GridSpace((25,25))"
   ]
  },
  {
   "attachments": {},
   "cell_type": "markdown",
   "metadata": {},
   "source": [
    "## 2. Define the agent type"
   ]
  },
  {
   "attachments": {},
   "cell_type": "markdown",
   "metadata": {},
   "source": [
    "The agents are of type **author**. Each author has the following property:\n",
    "* `num_publications`: authors need a `min_neighbours_to_publish`. If their reputation is high enough they will successfully publish.\n",
    "* `num_citations`: it models reputation, the higher this quantity, the higher is the reputation. \n",
    "\n",
    "Reputation models the probability to publish and it is based on citations. reputation = author.num_citations / total_num_citations\n"
   ]
  },
  {
   "cell_type": "code",
   "execution_count": 25,
   "metadata": {},
   "outputs": [],
   "source": [
    "@agent Author GridAgent{2} begin\n",
    "    num_citations::Int64\n",
    "    num_publications::Int64\n",
    "end"
   ]
  },
  {
   "cell_type": "code",
   "execution_count": 26,
   "metadata": {},
   "outputs": [
    {
     "name": "stdout",
     "output_type": "stream",
     "text": [
      "id::Int64\n",
      "pos::Tuple{Int64, Int64}\n",
      "num_citations::Int64\n",
      "num_publications::Int64\n"
     ]
    }
   ],
   "source": [
    "for (name, type) in zip(fieldnames(Author), fieldtypes(Author))\n",
    "    println(name, \"::\", type)\n",
    "end"
   ]
  },
  {
   "attachments": {},
   "cell_type": "markdown",
   "metadata": {},
   "source": [
    "## 3. Define the model"
   ]
  },
  {
   "cell_type": "code",
   "execution_count": 27,
   "metadata": {},
   "outputs": [
    {
     "data": {
      "text/plain": [
       "StandardABM with 0 agents of type Author\n",
       " space: GridSpace with size (25, 25), metric=chebyshev, periodic=true\n",
       " scheduler: fastest"
      ]
     },
     "metadata": {},
     "output_type": "display_data"
    }
   ],
   "source": [
    "model = AgentBasedModel(Author, space)"
   ]
  },
  {
   "cell_type": "code",
   "execution_count": 28,
   "metadata": {},
   "outputs": [
    {
     "data": {
      "text/plain": [
       "StandardABM with 100 agents of type Author\n",
       " space: GridSpace with size (25, 25), metric=chebyshev, periodic=true\n",
       " scheduler: fastest\n",
       " properties: min_neighbours_to_publish"
      ]
     },
     "metadata": {},
     "output_type": "display_data"
    }
   ],
   "source": [
    "using Random: Xoshiro #reproducibility\n",
    "\n",
    "function initialise(; \n",
    "    total_agents = 100, \n",
    "    griddims = (25, 25),\n",
    "    num_citations = rand(rng,1:5),\n",
    "    num_publications = 0,\n",
    "    min_neighbours_to_publish = 2,\n",
    "    seed = 1234,\n",
    ")\n",
    "\n",
    "space = GridSpace(griddims)\n",
    "rng = Xoshiro(seed)\n",
    "\n",
    "#properties\n",
    "properties = Dict(:min_neighbours_to_publish => min_neighbours_to_publish)\n",
    "\n",
    "model = AgentBasedModel(Author, space; rng, properties)\n",
    "\n",
    "for n in 1:total_agents\n",
    "    add_agent!(model, num_citations, num_publications)\n",
    "end\n",
    "return model\n",
    "end\n",
    "\n",
    "model = initialise()"
   ]
  },
  {
   "attachments": {},
   "cell_type": "markdown",
   "metadata": {},
   "source": [
    "## 4. Time evolution of the ABM"
   ]
  },
  {
   "cell_type": "code",
   "execution_count": 29,
   "metadata": {},
   "outputs": [
    {
     "data": {
      "text/plain": [
       "author_step! (generic function with 1 method)"
      ]
     },
     "metadata": {},
     "output_type": "display_data"
    }
   ],
   "source": [
    "function author_step!(author, model)\n",
    "    randomwalk!(author, model, 1)# radius 1\n",
    "\n",
    "    #count number neighbours\n",
    "    count_neighbours = 0\n",
    "    \n",
    "    for i in nearby_agents(author, model)\n",
    "        count_neighbours += 1\n",
    "    end\n",
    "\n",
    "    #Condition to publish\n",
    "    if count_neighbours ≥ model.min_neighbours_to_publish\n",
    "        reputation = author.num_citations/total_citations(model)\n",
    "        if rand(rng) < reputation\n",
    "            author.num_publications +=1\n",
    "        end\n",
    "    end\n",
    "\n",
    "    #Condition to increase citations\n",
    "    if author.num_publications > 10\n",
    "        author.num_citations +=1\n",
    "    end\n",
    "end\n",
    "   "
   ]
  },
  {
   "cell_type": "code",
   "execution_count": 30,
   "metadata": {},
   "outputs": [
    {
     "data": {
      "text/plain": [
       "total_citations (generic function with 1 method)"
      ]
     },
     "metadata": {},
     "output_type": "display_data"
    }
   ],
   "source": [
    "function total_citations(model)\n",
    "    total_citations = 0\n",
    "    for agent in allagents(model)\n",
    "        total_citations = sum(agent.num_citations)\n",
    "    end\n",
    "    return total_citations\n",
    "end"
   ]
  },
  {
   "attachments": {},
   "cell_type": "markdown",
   "metadata": {},
   "source": [
    "## 5. Collect data"
   ]
  },
  {
   "cell_type": "code",
   "execution_count": 31,
   "metadata": {},
   "outputs": [
    {
     "data": {
      "text/html": [
       "<div><div style = \"float: left;\"><span>101×3 DataFrame</span></div><div style = \"float: right;\"><span style = \"font-style: italic;\">76 rows omitted</span></div><div style = \"clear: both;\"></div></div><div class = \"data-frame\" style = \"overflow-x: scroll;\"><table class = \"data-frame\" style = \"margin-bottom: 6px;\"><thead><tr class = \"header\"><th class = \"rowNumber\" style = \"font-weight: bold; text-align: right;\">Row</th><th style = \"text-align: left;\">step</th><th style = \"text-align: left;\">sum_num_citations</th><th style = \"text-align: left;\">sum_num_publications</th></tr><tr class = \"subheader headerLastRow\"><th class = \"rowNumber\" style = \"font-weight: bold; text-align: right;\"></th><th title = \"Int64\" style = \"text-align: left;\">Int64</th><th title = \"Int64\" style = \"text-align: left;\">Int64</th><th title = \"Int64\" style = \"text-align: left;\">Int64</th></tr></thead><tbody><tr><td class = \"rowNumber\" style = \"font-weight: bold; text-align: right;\">1</td><td style = \"text-align: right;\">0</td><td style = \"text-align: right;\">100</td><td style = \"text-align: right;\">0</td></tr><tr><td class = \"rowNumber\" style = \"font-weight: bold; text-align: right;\">2</td><td style = \"text-align: right;\">1</td><td style = \"text-align: right;\">100</td><td style = \"text-align: right;\">38</td></tr><tr><td class = \"rowNumber\" style = \"font-weight: bold; text-align: right;\">3</td><td style = \"text-align: right;\">2</td><td style = \"text-align: right;\">100</td><td style = \"text-align: right;\">75</td></tr><tr><td class = \"rowNumber\" style = \"font-weight: bold; text-align: right;\">4</td><td style = \"text-align: right;\">3</td><td style = \"text-align: right;\">100</td><td style = \"text-align: right;\">113</td></tr><tr><td class = \"rowNumber\" style = \"font-weight: bold; text-align: right;\">5</td><td style = \"text-align: right;\">4</td><td style = \"text-align: right;\">100</td><td style = \"text-align: right;\">151</td></tr><tr><td class = \"rowNumber\" style = \"font-weight: bold; text-align: right;\">6</td><td style = \"text-align: right;\">5</td><td style = \"text-align: right;\">100</td><td style = \"text-align: right;\">196</td></tr><tr><td class = \"rowNumber\" style = \"font-weight: bold; text-align: right;\">7</td><td style = \"text-align: right;\">6</td><td style = \"text-align: right;\">100</td><td style = \"text-align: right;\">236</td></tr><tr><td class = \"rowNumber\" style = \"font-weight: bold; text-align: right;\">8</td><td style = \"text-align: right;\">7</td><td style = \"text-align: right;\">100</td><td style = \"text-align: right;\">269</td></tr><tr><td class = \"rowNumber\" style = \"font-weight: bold; text-align: right;\">9</td><td style = \"text-align: right;\">8</td><td style = \"text-align: right;\">100</td><td style = \"text-align: right;\">309</td></tr><tr><td class = \"rowNumber\" style = \"font-weight: bold; text-align: right;\">10</td><td style = \"text-align: right;\">9</td><td style = \"text-align: right;\">100</td><td style = \"text-align: right;\">346</td></tr><tr><td class = \"rowNumber\" style = \"font-weight: bold; text-align: right;\">11</td><td style = \"text-align: right;\">10</td><td style = \"text-align: right;\">100</td><td style = \"text-align: right;\">385</td></tr><tr><td class = \"rowNumber\" style = \"font-weight: bold; text-align: right;\">12</td><td style = \"text-align: right;\">11</td><td style = \"text-align: right;\">100</td><td style = \"text-align: right;\">424</td></tr><tr><td class = \"rowNumber\" style = \"font-weight: bold; text-align: right;\">13</td><td style = \"text-align: right;\">12</td><td style = \"text-align: right;\">101</td><td style = \"text-align: right;\">461</td></tr><tr><td style = \"text-align: right;\">&vellip;</td><td style = \"text-align: right;\">&vellip;</td><td style = \"text-align: right;\">&vellip;</td><td style = \"text-align: right;\">&vellip;</td></tr><tr><td class = \"rowNumber\" style = \"font-weight: bold; text-align: right;\">90</td><td style = \"text-align: right;\">89</td><td style = \"text-align: right;\">5670</td><td style = \"text-align: right;\">3247</td></tr><tr><td class = \"rowNumber\" style = \"font-weight: bold; text-align: right;\">91</td><td style = \"text-align: right;\">90</td><td style = \"text-align: right;\">5761</td><td style = \"text-align: right;\">3274</td></tr><tr><td class = \"rowNumber\" style = \"font-weight: bold; text-align: right;\">92</td><td style = \"text-align: right;\">91</td><td style = \"text-align: right;\">5852</td><td style = \"text-align: right;\">3303</td></tr><tr><td class = \"rowNumber\" style = \"font-weight: bold; text-align: right;\">93</td><td style = \"text-align: right;\">92</td><td style = \"text-align: right;\">5943</td><td style = \"text-align: right;\">3337</td></tr><tr><td class = \"rowNumber\" style = \"font-weight: bold; text-align: right;\">94</td><td style = \"text-align: right;\">93</td><td style = \"text-align: right;\">6034</td><td style = \"text-align: right;\">3367</td></tr><tr><td class = \"rowNumber\" style = \"font-weight: bold; text-align: right;\">95</td><td style = \"text-align: right;\">94</td><td style = \"text-align: right;\">6125</td><td style = \"text-align: right;\">3401</td></tr><tr><td class = \"rowNumber\" style = \"font-weight: bold; text-align: right;\">96</td><td style = \"text-align: right;\">95</td><td style = \"text-align: right;\">6216</td><td style = \"text-align: right;\">3434</td></tr><tr><td class = \"rowNumber\" style = \"font-weight: bold; text-align: right;\">97</td><td style = \"text-align: right;\">96</td><td style = \"text-align: right;\">6307</td><td style = \"text-align: right;\">3468</td></tr><tr><td class = \"rowNumber\" style = \"font-weight: bold; text-align: right;\">98</td><td style = \"text-align: right;\">97</td><td style = \"text-align: right;\">6398</td><td style = \"text-align: right;\">3510</td></tr><tr><td class = \"rowNumber\" style = \"font-weight: bold; text-align: right;\">99</td><td style = \"text-align: right;\">98</td><td style = \"text-align: right;\">6489</td><td style = \"text-align: right;\">3546</td></tr><tr><td class = \"rowNumber\" style = \"font-weight: bold; text-align: right;\">100</td><td style = \"text-align: right;\">99</td><td style = \"text-align: right;\">6580</td><td style = \"text-align: right;\">3578</td></tr><tr><td class = \"rowNumber\" style = \"font-weight: bold; text-align: right;\">101</td><td style = \"text-align: right;\">100</td><td style = \"text-align: right;\">6671</td><td style = \"text-align: right;\">3610</td></tr></tbody></table></div>"
      ],
      "text/latex": [
       "\\begin{tabular}{r|ccc}\n",
       "\t& step & sum\\_num\\_citations & sum\\_num\\_publications\\\\\n",
       "\t\\hline\n",
       "\t& Int64 & Int64 & Int64\\\\\n",
       "\t\\hline\n",
       "\t1 & 0 & 100 & 0 \\\\\n",
       "\t2 & 1 & 100 & 38 \\\\\n",
       "\t3 & 2 & 100 & 75 \\\\\n",
       "\t4 & 3 & 100 & 113 \\\\\n",
       "\t5 & 4 & 100 & 151 \\\\\n",
       "\t6 & 5 & 100 & 196 \\\\\n",
       "\t7 & 6 & 100 & 236 \\\\\n",
       "\t8 & 7 & 100 & 269 \\\\\n",
       "\t9 & 8 & 100 & 309 \\\\\n",
       "\t10 & 9 & 100 & 346 \\\\\n",
       "\t11 & 10 & 100 & 385 \\\\\n",
       "\t12 & 11 & 100 & 424 \\\\\n",
       "\t13 & 12 & 101 & 461 \\\\\n",
       "\t14 & 13 & 102 & 495 \\\\\n",
       "\t15 & 14 & 106 & 531 \\\\\n",
       "\t16 & 15 & 116 & 576 \\\\\n",
       "\t17 & 16 & 131 & 615 \\\\\n",
       "\t18 & 17 & 148 & 657 \\\\\n",
       "\t19 & 18 & 166 & 696 \\\\\n",
       "\t20 & 19 & 188 & 736 \\\\\n",
       "\t21 & 20 & 210 & 779 \\\\\n",
       "\t22 & 21 & 235 & 815 \\\\\n",
       "\t23 & 22 & 264 & 852 \\\\\n",
       "\t24 & 23 & 295 & 889 \\\\\n",
       "\t$\\dots$ & $\\dots$ & $\\dots$ & $\\dots$ \\\\\n",
       "\\end{tabular}\n"
      ],
      "text/plain": [
       "\u001b[1m101×3 DataFrame\u001b[0m\n",
       "\u001b[1m Row \u001b[0m│\u001b[1m step  \u001b[0m\u001b[1m sum_num_citations \u001b[0m\u001b[1m sum_num_publications \u001b[0m\n",
       "     │\u001b[90m Int64 \u001b[0m\u001b[90m Int64             \u001b[0m\u001b[90m Int64                \u001b[0m\n",
       "─────┼────────────────────────────────────────────────\n",
       "   1 │     0                100                     0\n",
       "   2 │     1                100                    38\n",
       "   3 │     2                100                    75\n",
       "   4 │     3                100                   113\n",
       "   5 │     4                100                   151\n",
       "   6 │     5                100                   196\n",
       "   7 │     6                100                   236\n",
       "   8 │     7                100                   269\n",
       "  ⋮  │   ⋮            ⋮                   ⋮\n",
       "  95 │    94               6125                  3401\n",
       "  96 │    95               6216                  3434\n",
       "  97 │    96               6307                  3468\n",
       "  98 │    97               6398                  3510\n",
       "  99 │    98               6489                  3546\n",
       " 100 │    99               6580                  3578\n",
       " 101 │   100               6671                  3610\n",
       "\u001b[36m                                       86 rows omitted\u001b[0m"
      ]
     },
     "metadata": {},
     "output_type": "display_data"
    }
   ],
   "source": [
    "model = initialise()\n",
    "\n",
    "adata = [(:num_citations,sum), (:num_publications,sum)]\n",
    "\n",
    "data_agents, _ = run!(model, author_step!, 100; adata)\n",
    "data_agents"
   ]
  },
  {
   "attachments": {},
   "cell_type": "markdown",
   "metadata": {},
   "source": [
    "## 6. Visualise data"
   ]
  },
  {
   "cell_type": "code",
   "execution_count": 32,
   "metadata": {},
   "outputs": [
    {
     "data": {
      "image/png": "[encoded data removed]"
     },
     "metadata": {},
     "output_type": "display_data"
    }
   ],
   "source": [
    "\n",
    "function plot_data_authors(data)\n",
    "\n",
    "    figure = Figure(resolution = (600, 400))\n",
    "    ax = figure[1, 1] = Axis(figure; xlabel = \"Step\", ylabel = \"Population\")\n",
    "\n",
    "    lines!(ax, data.step, data.sum_num_citations, color = :green, label = \"total num_citations\")\n",
    "    lines!(ax, data.step, data.sum_num_publications, color = :black, label = \"total num_publications\")\n",
    "    axislegend(ax)\n",
    "    figure\n",
    "end\n",
    "\n",
    "plot_data_authors(data_agents)"
   ]
  }
 ],
 "metadata": {
  "kernelspec": {
   "display_name": "Julia 1.8.5",
   "language": "julia",
   "name": "julia-1.8"
  },
  "language_info": {
   "file_extension": ".jl",
   "mimetype": "application/julia",
   "name": "julia",
   "version": "1.8.5"
  },
  "orig_nbformat": 4
 },
 "nbformat": 4,
 "nbformat_minor": 2
}
